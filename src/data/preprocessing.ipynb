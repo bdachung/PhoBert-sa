{
 "cells": [
  {
   "cell_type": "code",
   "execution_count": 1,
   "id": "56ca3a4d",
   "metadata": {},
   "outputs": [
    {
     "name": "stdout",
     "output_type": "stream",
     "text": [
      "Collecting gensim\n",
      "  Downloading gensim-4.2.0-cp38-cp38-manylinux_2_12_x86_64.manylinux2010_x86_64.whl (24.1 MB)\n",
      "\u001b[2K     \u001b[38;2;114;156;31m━━━━━━━━━━━━━━━━━━━━━━━━━━━━━━━━━━━━━━━━\u001b[0m \u001b[32m24.1/24.1 MB\u001b[0m \u001b[31m39.7 MB/s\u001b[0m eta \u001b[36m0:00:00\u001b[0mm eta \u001b[36m0:00:01\u001b[0m0:01\u001b[0m:01\u001b[0m\n",
      "\u001b[?25hRequirement already satisfied: scipy>=0.18.1 in /home/khuongnd6/miniforge3/envs/STT/lib/python3.8/site-packages (from gensim) (1.8.1)\n",
      "Collecting smart-open>=1.8.1\n",
      "  Downloading smart_open-6.0.0-py3-none-any.whl (58 kB)\n",
      "\u001b[2K     \u001b[38;2;114;156;31m━━━━━━━━━━━━━━━━━━━━━━━━━━━━━━━━━━━━━━━━\u001b[0m \u001b[32m58.4/58.4 kB\u001b[0m \u001b[31m1.4 MB/s\u001b[0m eta \u001b[36m0:00:00\u001b[0m MB/s\u001b[0m eta \u001b[36m0:00:01\u001b[0m\n",
      "\u001b[?25hRequirement already satisfied: numpy>=1.17.0 in /home/khuongnd6/miniforge3/envs/STT/lib/python3.8/site-packages (from gensim) (1.22.4)\n",
      "Installing collected packages: smart-open, gensim\n",
      "Successfully installed gensim-4.2.0 smart-open-6.0.0\n"
     ]
    }
   ],
   "source": [
    "!pip install gensim"
   ]
  },
  {
   "cell_type": "code",
   "execution_count": 2,
   "id": "193b80af",
   "metadata": {},
   "outputs": [
    {
     "name": "stdout",
     "output_type": "stream",
     "text": [
      "Collecting pyvi\n",
      "  Downloading pyvi-0.1.1-py2.py3-none-any.whl (8.5 MB)\n",
      "\u001b[2K     \u001b[38;2;114;156;31m━━━━━━━━━━━━━━━━━━━━━━━━━━━━━━━━━━━━━━━━\u001b[0m \u001b[32m8.5/8.5 MB\u001b[0m \u001b[31m22.2 MB/s\u001b[0m eta \u001b[36m0:00:00\u001b[0mm eta \u001b[36m0:00:01\u001b[0m[36m0:00:01\u001b[0m\n",
      "\u001b[?25hCollecting sklearn-crfsuite\n",
      "  Downloading sklearn_crfsuite-0.3.6-py2.py3-none-any.whl (12 kB)\n",
      "Requirement already satisfied: scikit-learn in /home/khuongnd6/miniforge3/envs/STT/lib/python3.8/site-packages (from pyvi) (1.1.1)\n",
      "Requirement already satisfied: scipy>=1.3.2 in /home/khuongnd6/miniforge3/envs/STT/lib/python3.8/site-packages (from scikit-learn->pyvi) (1.8.1)\n",
      "Requirement already satisfied: joblib>=1.0.0 in /home/khuongnd6/miniforge3/envs/STT/lib/python3.8/site-packages (from scikit-learn->pyvi) (1.1.0)\n",
      "Requirement already satisfied: numpy>=1.17.3 in /home/khuongnd6/miniforge3/envs/STT/lib/python3.8/site-packages (from scikit-learn->pyvi) (1.22.4)\n",
      "Requirement already satisfied: threadpoolctl>=2.0.0 in /home/khuongnd6/miniforge3/envs/STT/lib/python3.8/site-packages (from scikit-learn->pyvi) (3.1.0)\n",
      "Requirement already satisfied: six in /home/khuongnd6/miniforge3/envs/STT/lib/python3.8/site-packages (from sklearn-crfsuite->pyvi) (1.16.0)\n",
      "Requirement already satisfied: tqdm>=2.0 in /home/khuongnd6/.local/lib/python3.8/site-packages (from sklearn-crfsuite->pyvi) (4.64.0)\n",
      "Collecting tabulate\n",
      "  Using cached tabulate-0.8.9-py3-none-any.whl (25 kB)\n",
      "Collecting python-crfsuite>=0.8.3\n",
      "  Downloading python_crfsuite-0.9.8-cp38-cp38-manylinux_2_17_x86_64.manylinux2014_x86_64.whl (1.0 MB)\n",
      "\u001b[2K     \u001b[38;2;114;156;31m━━━━━━━━━━━━━━━━━━━━━━━━━━━━━━━━━━━━━━━━\u001b[0m \u001b[32m1.0/1.0 MB\u001b[0m \u001b[31m3.5 MB/s\u001b[0m eta \u001b[36m0:00:00\u001b[0mm eta \u001b[36m0:00:01\u001b[0m0:01\u001b[0m:01\u001b[0m\n",
      "\u001b[?25hInstalling collected packages: tabulate, python-crfsuite, sklearn-crfsuite, pyvi\n",
      "Successfully installed python-crfsuite-0.9.8 pyvi-0.1.1 sklearn-crfsuite-0.3.6 tabulate-0.8.9\n"
     ]
    }
   ],
   "source": [
    "!pip install pyvi"
   ]
  },
  {
   "cell_type": "code",
   "execution_count": 1,
   "id": "1cd7c88d",
   "metadata": {},
   "outputs": [],
   "source": [
    "import pandas as pd\n",
    "import re\n",
    "import gensim # thư viện NLP\n",
    "from pyvi import ViTokenizer, ViPosTagger # thư viện NLP tiếng Việt\n",
    "from pandas import DataFrame\n",
    "import re"
   ]
  },
  {
   "cell_type": "code",
   "execution_count": 2,
   "id": "3132a6c0",
   "metadata": {},
   "outputs": [],
   "source": [
    "df_train_feature = pd.read_csv(\"../../data//raw/vn_hate_speech/02_train_text.csv\",encoding=\"UTF8\")"
   ]
  },
  {
   "cell_type": "code",
   "execution_count": 3,
   "id": "1729d6f2",
   "metadata": {},
   "outputs": [
    {
     "data": {
      "text/html": [
       "<div>\n",
       "<style scoped>\n",
       "    .dataframe tbody tr th:only-of-type {\n",
       "        vertical-align: middle;\n",
       "    }\n",
       "\n",
       "    .dataframe tbody tr th {\n",
       "        vertical-align: top;\n",
       "    }\n",
       "\n",
       "    .dataframe thead th {\n",
       "        text-align: right;\n",
       "    }\n",
       "</style>\n",
       "<table border=\"1\" class=\"dataframe\">\n",
       "  <thead>\n",
       "    <tr style=\"text-align: right;\">\n",
       "      <th></th>\n",
       "      <th>id</th>\n",
       "      <th>free_text</th>\n",
       "    </tr>\n",
       "  </thead>\n",
       "  <tbody>\n",
       "    <tr>\n",
       "      <th>0</th>\n",
       "      <td>train_blzwlqjqra</td>\n",
       "      <td>vừa rẻ vừa hịn. tội gì k mua. Cầm Kiều Oanh &lt;U...</td>\n",
       "    </tr>\n",
       "    <tr>\n",
       "      <th>1</th>\n",
       "      <td>train_pcndwphict</td>\n",
       "      <td>Tại sao nhìn con dao bạn không nghĩ đến việc s...</td>\n",
       "    </tr>\n",
       "    <tr>\n",
       "      <th>2</th>\n",
       "      <td>train_abhvpptixv</td>\n",
       "      <td>tao lấy trứng dái đập hả m con lol :)))</td>\n",
       "    </tr>\n",
       "    <tr>\n",
       "      <th>3</th>\n",
       "      <td>train_tervdkytrt</td>\n",
       "      <td>Trang Bằng shared a post to the group: MUA BÁN...</td>\n",
       "    </tr>\n",
       "    <tr>\n",
       "      <th>4</th>\n",
       "      <td>train_qceexodeie</td>\n",
       "      <td>Set bộ LV .\\nSz : s-m-l .\\n📌340 Thảo Mi Lê add...</td>\n",
       "    </tr>\n",
       "  </tbody>\n",
       "</table>\n",
       "</div>"
      ],
      "text/plain": [
       "                 id                                          free_text\n",
       "0  train_blzwlqjqra  vừa rẻ vừa hịn. tội gì k mua. Cầm Kiều Oanh <U...\n",
       "1  train_pcndwphict  Tại sao nhìn con dao bạn không nghĩ đến việc s...\n",
       "2  train_abhvpptixv            tao lấy trứng dái đập hả m con lol :)))\n",
       "3  train_tervdkytrt  Trang Bằng shared a post to the group: MUA BÁN...\n",
       "4  train_qceexodeie  Set bộ LV .\\nSz : s-m-l .\\n📌340 Thảo Mi Lê add..."
      ]
     },
     "execution_count": 3,
     "metadata": {},
     "output_type": "execute_result"
    }
   ],
   "source": [
    "df_train_feature.head()"
   ]
  },
  {
   "cell_type": "code",
   "execution_count": 4,
   "id": "6be2f24d",
   "metadata": {},
   "outputs": [],
   "source": [
    "df_train_label = pd.read_csv(\"../../data/raw/vn_hate_speech/03_train_label.csv\",encoding=\"UTF8\")"
   ]
  },
  {
   "cell_type": "code",
   "execution_count": 5,
   "id": "3778c7e2",
   "metadata": {},
   "outputs": [
    {
     "data": {
      "text/html": [
       "<div>\n",
       "<style scoped>\n",
       "    .dataframe tbody tr th:only-of-type {\n",
       "        vertical-align: middle;\n",
       "    }\n",
       "\n",
       "    .dataframe tbody tr th {\n",
       "        vertical-align: top;\n",
       "    }\n",
       "\n",
       "    .dataframe thead th {\n",
       "        text-align: right;\n",
       "    }\n",
       "</style>\n",
       "<table border=\"1\" class=\"dataframe\">\n",
       "  <thead>\n",
       "    <tr style=\"text-align: right;\">\n",
       "      <th></th>\n",
       "      <th>id</th>\n",
       "      <th>label_id</th>\n",
       "    </tr>\n",
       "  </thead>\n",
       "  <tbody>\n",
       "    <tr>\n",
       "      <th>0</th>\n",
       "      <td>train_xeokpxcudd</td>\n",
       "      <td>0</td>\n",
       "    </tr>\n",
       "    <tr>\n",
       "      <th>1</th>\n",
       "      <td>train_zeahsydrif</td>\n",
       "      <td>0</td>\n",
       "    </tr>\n",
       "    <tr>\n",
       "      <th>2</th>\n",
       "      <td>train_bpschfxvea</td>\n",
       "      <td>0</td>\n",
       "    </tr>\n",
       "    <tr>\n",
       "      <th>3</th>\n",
       "      <td>train_jadogeuwsz</td>\n",
       "      <td>0</td>\n",
       "    </tr>\n",
       "    <tr>\n",
       "      <th>4</th>\n",
       "      <td>train_ijfaidtjej</td>\n",
       "      <td>0</td>\n",
       "    </tr>\n",
       "  </tbody>\n",
       "</table>\n",
       "</div>"
      ],
      "text/plain": [
       "                 id  label_id\n",
       "0  train_xeokpxcudd         0\n",
       "1  train_zeahsydrif         0\n",
       "2  train_bpschfxvea         0\n",
       "3  train_jadogeuwsz         0\n",
       "4  train_ijfaidtjej         0"
      ]
     },
     "execution_count": 5,
     "metadata": {},
     "output_type": "execute_result"
    }
   ],
   "source": [
    "df_train_label.head()"
   ]
  },
  {
   "cell_type": "code",
   "execution_count": 6,
   "id": "e739f7b3",
   "metadata": {},
   "outputs": [],
   "source": [
    "stop_words = pd.read_csv(\"../../data/vi_stopwords.txt\")"
   ]
  },
  {
   "cell_type": "code",
   "execution_count": 7,
   "id": "19bb45ec",
   "metadata": {},
   "outputs": [],
   "source": [
    "with open('../../data/vi_stopwords.txt') as f:\n",
    "    stop_words = f.readlines()\n",
    "    f.close()"
   ]
  },
  {
   "cell_type": "code",
   "execution_count": 8,
   "id": "1690f867",
   "metadata": {},
   "outputs": [],
   "source": [
    "for idx,word in enumerate(stop_words):\n",
    "    word = re.sub(\"\\n\",\"\",word)\n",
    "    word = re.sub(\"[ ]\",\"_\",word)\n",
    "    stop_words[idx] = word"
   ]
  },
  {
   "cell_type": "code",
   "execution_count": 9,
   "id": "758e9a34",
   "metadata": {},
   "outputs": [],
   "source": [
    "with open('../../data/vi_stopwords_segmented.txt','w') as f:\n",
    "    temp = \",\".join(stop_words)\n",
    "    f.write(temp)\n",
    "    f.close()"
   ]
  },
  {
   "cell_type": "code",
   "execution_count": 10,
   "id": "b5be1380",
   "metadata": {},
   "outputs": [],
   "source": [
    "from collections import Counter"
   ]
  },
  {
   "cell_type": "code",
   "execution_count": 11,
   "id": "d16336f8",
   "metadata": {},
   "outputs": [],
   "source": [
    "def remove_html_tag(batch):\n",
    "    batch = re.sub(\"(<.*>)\",\"\", batch)\n",
    "    batch = re.sub(\"(url photos from .*? post)\", \"\", batch)\n",
    "    batch = re.sub(\"updated .*? status\", \"\", batch)\n",
    "    return batch"
   ]
  },
  {
   "cell_type": "code",
   "execution_count": 12,
   "id": "b8c14cab",
   "metadata": {},
   "outputs": [],
   "source": [
    "chars_to_ignore_regex = '[\\,\\?\\.\\!\\-\\;\\:\\\"\\\\\\n\\(\\)]'\n",
    "\n",
    "def remove_special_characters(batch):\n",
    "    batch = re.sub(chars_to_ignore_regex, '', batch)\n",
    "    return batch"
   ]
  },
  {
   "cell_type": "code",
   "execution_count": 13,
   "id": "2716651e",
   "metadata": {},
   "outputs": [],
   "source": [
    "def remove_number_characters(batch):\n",
    "    batch = re.sub(\"\\d+\",'', batch)\n",
    "    return batch"
   ]
  },
  {
   "cell_type": "code",
   "execution_count": 14,
   "id": "63479df1",
   "metadata": {},
   "outputs": [],
   "source": [
    "def remove_any_special_left(batch):\n",
    "    # Loại bỏ các kí tự đặc biệt\n",
    "    batch = gensim.utils.simple_preprocess(batch)\n",
    "    batch = ' '.join(batch)\n",
    "    # Sau khi loại bỏ kí tự đặc biệt thì file sẽ bị mất nhận diện chuỗi -> thêm dấu nháy vào chuỗi\n",
    "    return batch"
   ]
  },
  {
   "cell_type": "code",
   "execution_count": 15,
   "id": "7b7fc670",
   "metadata": {},
   "outputs": [],
   "source": [
    "df_train_feature['free_text'] = df_train_feature['free_text'].apply(lambda x : x.upper())\n",
    "df_train_feature['free_text'] = df_train_feature['free_text'].apply(remove_html_tag)\n",
    "df_train_feature['free_text'] = df_train_feature['free_text'].apply(remove_special_characters)\n",
    "df_train_feature['free_text'] = df_train_feature['free_text'].apply(remove_number_characters)\n",
    "df_train_feature['free_text'] = df_train_feature['free_text'].apply(remove_any_special_left)"
   ]
  },
  {
   "cell_type": "code",
   "execution_count": 16,
   "id": "10cbb122",
   "metadata": {},
   "outputs": [
    {
     "data": {
      "text/html": [
       "<div>\n",
       "<style scoped>\n",
       "    .dataframe tbody tr th:only-of-type {\n",
       "        vertical-align: middle;\n",
       "    }\n",
       "\n",
       "    .dataframe tbody tr th {\n",
       "        vertical-align: top;\n",
       "    }\n",
       "\n",
       "    .dataframe thead th {\n",
       "        text-align: right;\n",
       "    }\n",
       "</style>\n",
       "<table border=\"1\" class=\"dataframe\">\n",
       "  <thead>\n",
       "    <tr style=\"text-align: right;\">\n",
       "      <th></th>\n",
       "      <th>id</th>\n",
       "      <th>free_text</th>\n",
       "    </tr>\n",
       "  </thead>\n",
       "  <tbody>\n",
       "    <tr>\n",
       "      <th>0</th>\n",
       "      <td>train_blzwlqjqra</td>\n",
       "      <td>vừa rẻ vừa hịn tội gì mua cầm kiều oanh trang ...</td>\n",
       "    </tr>\n",
       "    <tr>\n",
       "      <th>1</th>\n",
       "      <td>train_pcndwphict</td>\n",
       "      <td>tại sao nhìn con dao bạn không nghĩ đến việc s...</td>\n",
       "    </tr>\n",
       "    <tr>\n",
       "      <th>2</th>\n",
       "      <td>train_abhvpptixv</td>\n",
       "      <td>tao lấy trứng dái đập hả con lol</td>\n",
       "    </tr>\n",
       "    <tr>\n",
       "      <th>3</th>\n",
       "      <td>train_tervdkytrt</td>\n",
       "      <td>trang bằng shared post to the group mua bán on...</td>\n",
       "    </tr>\n",
       "    <tr>\n",
       "      <th>4</th>\n",
       "      <td>train_qceexodeie</td>\n",
       "      <td>set bộ lv sz sml thảo mi lê added new photos p...</td>\n",
       "    </tr>\n",
       "    <tr>\n",
       "      <th>5</th>\n",
       "      <td>train_hmmegjkmpi</td>\n",
       "      <td>chị gio màu váy và đọc mã màu chọn màu</td>\n",
       "    </tr>\n",
       "    <tr>\n",
       "      <th>6</th>\n",
       "      <td>train_appnmrhqqi</td>\n",
       "      <td>ngọc trần cherry fashion shop sale túi sập sàn...</td>\n",
       "    </tr>\n",
       "    <tr>\n",
       "      <th>7</th>\n",
       "      <td>train_oflzkbmdbm</td>\n",
       "      <td>mụn thịt mụn cám quanh mắtai bị mụn thịt mắt q...</td>\n",
       "    </tr>\n",
       "    <tr>\n",
       "      <th>8</th>\n",
       "      <td>train_wqpclypprz</td>\n",
       "      <td>dũng nguyễn thành long nguyễn vũ hạnh nhi</td>\n",
       "    </tr>\n",
       "    <tr>\n",
       "      <th>9</th>\n",
       "      <td>train_tqruvghekx</td>\n",
       "      <td>nhà có trẻ con thì dầu_tràm là nên có trong nh...</td>\n",
       "    </tr>\n",
       "  </tbody>\n",
       "</table>\n",
       "</div>"
      ],
      "text/plain": [
       "                 id                                          free_text\n",
       "0  train_blzwlqjqra  vừa rẻ vừa hịn tội gì mua cầm kiều oanh trang ...\n",
       "1  train_pcndwphict  tại sao nhìn con dao bạn không nghĩ đến việc s...\n",
       "2  train_abhvpptixv                   tao lấy trứng dái đập hả con lol\n",
       "3  train_tervdkytrt  trang bằng shared post to the group mua bán on...\n",
       "4  train_qceexodeie  set bộ lv sz sml thảo mi lê added new photos p...\n",
       "5  train_hmmegjkmpi             chị gio màu váy và đọc mã màu chọn màu\n",
       "6  train_appnmrhqqi  ngọc trần cherry fashion shop sale túi sập sàn...\n",
       "7  train_oflzkbmdbm  mụn thịt mụn cám quanh mắtai bị mụn thịt mắt q...\n",
       "8  train_wqpclypprz          dũng nguyễn thành long nguyễn vũ hạnh nhi\n",
       "9  train_tqruvghekx  nhà có trẻ con thì dầu_tràm là nên có trong nh..."
      ]
     },
     "execution_count": 16,
     "metadata": {},
     "output_type": "execute_result"
    }
   ],
   "source": [
    "df_train_feature.head(10)"
   ]
  },
  {
   "cell_type": "code",
   "execution_count": 17,
   "id": "bf49ec31",
   "metadata": {},
   "outputs": [],
   "source": [
    "from vncorenlp import VnCoreNLP"
   ]
  },
  {
   "cell_type": "code",
   "execution_count": 18,
   "id": "ef785f22",
   "metadata": {},
   "outputs": [],
   "source": [
    "rdrsegmenter = VnCoreNLP(\"../../vncorenlp/VnCoreNLP-1.1.1.jar\", annotators=\"wseg\", max_heap_size='-Xmx500m') "
   ]
  },
  {
   "cell_type": "code",
   "execution_count": 19,
   "id": "1d9eae7f",
   "metadata": {},
   "outputs": [],
   "source": [
    "def segment_text(batch):\n",
    "    batch = rdrsegmenter.tokenize(batch)\n",
    "    if len(batch) == 0:\n",
    "        return \"\"\n",
    "    else:\n",
    "        return \" \".join(batch[0]).strip()"
   ]
  },
  {
   "cell_type": "code",
   "execution_count": 20,
   "id": "1d055268",
   "metadata": {},
   "outputs": [
    {
     "data": {
      "text/html": [
       "<div>\n",
       "<style scoped>\n",
       "    .dataframe tbody tr th:only-of-type {\n",
       "        vertical-align: middle;\n",
       "    }\n",
       "\n",
       "    .dataframe tbody tr th {\n",
       "        vertical-align: top;\n",
       "    }\n",
       "\n",
       "    .dataframe thead th {\n",
       "        text-align: right;\n",
       "    }\n",
       "</style>\n",
       "<table border=\"1\" class=\"dataframe\">\n",
       "  <thead>\n",
       "    <tr style=\"text-align: right;\">\n",
       "      <th></th>\n",
       "      <th>id</th>\n",
       "      <th>free_text</th>\n",
       "    </tr>\n",
       "  </thead>\n",
       "  <tbody>\n",
       "    <tr>\n",
       "      <th>0</th>\n",
       "      <td>train_blzwlqjqra</td>\n",
       "      <td>vừa rẻ vừa hịn tội gì mua cầm kiều oanh trang ...</td>\n",
       "    </tr>\n",
       "    <tr>\n",
       "      <th>1</th>\n",
       "      <td>train_pcndwphict</td>\n",
       "      <td>tại sao nhìn con dao bạn không nghĩ đến việc s...</td>\n",
       "    </tr>\n",
       "    <tr>\n",
       "      <th>2</th>\n",
       "      <td>train_abhvpptixv</td>\n",
       "      <td>tao lấy trứng dái đập hả con lol</td>\n",
       "    </tr>\n",
       "    <tr>\n",
       "      <th>3</th>\n",
       "      <td>train_tervdkytrt</td>\n",
       "      <td>trang bằng shared post to the group mua bán on...</td>\n",
       "    </tr>\n",
       "    <tr>\n",
       "      <th>4</th>\n",
       "      <td>train_qceexodeie</td>\n",
       "      <td>set bộ lv sz sml thảo mi lê added new photos p...</td>\n",
       "    </tr>\n",
       "  </tbody>\n",
       "</table>\n",
       "</div>"
      ],
      "text/plain": [
       "                 id                                          free_text\n",
       "0  train_blzwlqjqra  vừa rẻ vừa hịn tội gì mua cầm kiều oanh trang ...\n",
       "1  train_pcndwphict  tại sao nhìn con dao bạn không nghĩ đến việc s...\n",
       "2  train_abhvpptixv                   tao lấy trứng dái đập hả con lol\n",
       "3  train_tervdkytrt  trang bằng shared post to the group mua bán on...\n",
       "4  train_qceexodeie  set bộ lv sz sml thảo mi lê added new photos p..."
      ]
     },
     "execution_count": 20,
     "metadata": {},
     "output_type": "execute_result"
    }
   ],
   "source": [
    "df_train_feature.head()"
   ]
  },
  {
   "cell_type": "code",
   "execution_count": 21,
   "id": "e7562d4d",
   "metadata": {},
   "outputs": [],
   "source": [
    "df_train_feature['free_text'] = df_train_feature['free_text'].apply(segment_text)"
   ]
  },
  {
   "cell_type": "code",
   "execution_count": 22,
   "id": "a21d9b3c",
   "metadata": {},
   "outputs": [],
   "source": [
    "df_train_feature['free_text'] = df_train_feature['free_text'].apply(lambda x : re.sub(\"xxx\",\"\",x).strip())"
   ]
  },
  {
   "cell_type": "code",
   "execution_count": 23,
   "id": "2ae5c2fd",
   "metadata": {},
   "outputs": [],
   "source": [
    "count1 = Counter(\" \".join(df_train_feature['free_text']).split()).most_common(20)"
   ]
  },
  {
   "cell_type": "code",
   "execution_count": 24,
   "id": "52cae651",
   "metadata": {},
   "outputs": [
    {
     "data": {
      "text/html": [
       "<div>\n",
       "<style scoped>\n",
       "    .dataframe tbody tr th:only-of-type {\n",
       "        vertical-align: middle;\n",
       "    }\n",
       "\n",
       "    .dataframe tbody tr th {\n",
       "        vertical-align: top;\n",
       "    }\n",
       "\n",
       "    .dataframe thead th {\n",
       "        text-align: right;\n",
       "    }\n",
       "</style>\n",
       "<table border=\"1\" class=\"dataframe\">\n",
       "  <thead>\n",
       "    <tr style=\"text-align: right;\">\n",
       "      <th></th>\n",
       "      <th>words</th>\n",
       "      <th>count</th>\n",
       "    </tr>\n",
       "  </thead>\n",
       "  <tbody>\n",
       "    <tr>\n",
       "      <th>0</th>\n",
       "      <td>vl</td>\n",
       "      <td>4942</td>\n",
       "    </tr>\n",
       "    <tr>\n",
       "      <th>1</th>\n",
       "      <td>photos</td>\n",
       "      <td>3961</td>\n",
       "    </tr>\n",
       "    <tr>\n",
       "      <th>2</th>\n",
       "      <td>có</td>\n",
       "      <td>3385</td>\n",
       "    </tr>\n",
       "    <tr>\n",
       "      <th>3</th>\n",
       "      <td>post</td>\n",
       "      <td>3150</td>\n",
       "    </tr>\n",
       "    <tr>\n",
       "      <th>4</th>\n",
       "      <td>cho</td>\n",
       "      <td>2874</td>\n",
       "    </tr>\n",
       "    <tr>\n",
       "      <th>5</th>\n",
       "      <td>from</td>\n",
       "      <td>2763</td>\n",
       "    </tr>\n",
       "    <tr>\n",
       "      <th>6</th>\n",
       "      <td>là</td>\n",
       "      <td>2653</td>\n",
       "    </tr>\n",
       "    <tr>\n",
       "      <th>7</th>\n",
       "      <td>và</td>\n",
       "      <td>2186</td>\n",
       "    </tr>\n",
       "    <tr>\n",
       "      <th>8</th>\n",
       "      <td>không</td>\n",
       "      <td>1918</td>\n",
       "    </tr>\n",
       "    <tr>\n",
       "      <th>9</th>\n",
       "      <td>đi</td>\n",
       "      <td>1858</td>\n",
       "    </tr>\n",
       "    <tr>\n",
       "      <th>10</th>\n",
       "      <td>em</td>\n",
       "      <td>1688</td>\n",
       "    </tr>\n",
       "    <tr>\n",
       "      <th>11</th>\n",
       "      <td>của</td>\n",
       "      <td>1653</td>\n",
       "    </tr>\n",
       "    <tr>\n",
       "      <th>12</th>\n",
       "      <td>is</td>\n",
       "      <td>1651</td>\n",
       "    </tr>\n",
       "    <tr>\n",
       "      <th>13</th>\n",
       "      <td>các</td>\n",
       "      <td>1647</td>\n",
       "    </tr>\n",
       "    <tr>\n",
       "      <th>14</th>\n",
       "      <td>mà</td>\n",
       "      <td>1608</td>\n",
       "    </tr>\n",
       "    <tr>\n",
       "      <th>15</th>\n",
       "      <td>bạn</td>\n",
       "      <td>1600</td>\n",
       "    </tr>\n",
       "    <tr>\n",
       "      <th>16</th>\n",
       "      <td>thì</td>\n",
       "      <td>1580</td>\n",
       "    </tr>\n",
       "    <tr>\n",
       "      <th>17</th>\n",
       "      <td>người</td>\n",
       "      <td>1563</td>\n",
       "    </tr>\n",
       "    <tr>\n",
       "      <th>18</th>\n",
       "      <td>để</td>\n",
       "      <td>1464</td>\n",
       "    </tr>\n",
       "    <tr>\n",
       "      <th>19</th>\n",
       "      <td>nha</td>\n",
       "      <td>1414</td>\n",
       "    </tr>\n",
       "  </tbody>\n",
       "</table>\n",
       "</div>"
      ],
      "text/plain": [
       "     words  count\n",
       "0       vl   4942\n",
       "1   photos   3961\n",
       "2       có   3385\n",
       "3     post   3150\n",
       "4      cho   2874\n",
       "5     from   2763\n",
       "6       là   2653\n",
       "7       và   2186\n",
       "8    không   1918\n",
       "9       đi   1858\n",
       "10      em   1688\n",
       "11     của   1653\n",
       "12      is   1651\n",
       "13     các   1647\n",
       "14      mà   1608\n",
       "15     bạn   1600\n",
       "16     thì   1580\n",
       "17   người   1563\n",
       "18      để   1464\n",
       "19     nha   1414"
      ]
     },
     "execution_count": 24,
     "metadata": {},
     "output_type": "execute_result"
    }
   ],
   "source": [
    "dfc = pd.DataFrame.from_dict(count1)\n",
    "dfc = dfc.rename(columns={0: \"words\", 1 : \"count\"})\n",
    "dfc"
   ]
  },
  {
   "cell_type": "code",
   "execution_count": 25,
   "id": "13c73d86",
   "metadata": {},
   "outputs": [],
   "source": [
    "train_final = pd.merge(df_train_feature,df_train_label,on=['id'])"
   ]
  },
  {
   "cell_type": "code",
   "execution_count": 26,
   "id": "b1c48b1e",
   "metadata": {},
   "outputs": [
    {
     "data": {
      "text/html": [
       "<div>\n",
       "<style scoped>\n",
       "    .dataframe tbody tr th:only-of-type {\n",
       "        vertical-align: middle;\n",
       "    }\n",
       "\n",
       "    .dataframe tbody tr th {\n",
       "        vertical-align: top;\n",
       "    }\n",
       "\n",
       "    .dataframe thead th {\n",
       "        text-align: right;\n",
       "    }\n",
       "</style>\n",
       "<table border=\"1\" class=\"dataframe\">\n",
       "  <thead>\n",
       "    <tr style=\"text-align: right;\">\n",
       "      <th></th>\n",
       "      <th>id</th>\n",
       "      <th>free_text</th>\n",
       "      <th>label_id</th>\n",
       "    </tr>\n",
       "  </thead>\n",
       "  <tbody>\n",
       "    <tr>\n",
       "      <th>0</th>\n",
       "      <td>train_blzwlqjqra</td>\n",
       "      <td>vừa rẻ vừa hịn tội gì mua cầm_kiều oanh trang ...</td>\n",
       "      <td>0</td>\n",
       "    </tr>\n",
       "    <tr>\n",
       "      <th>1</th>\n",
       "      <td>train_pcndwphict</td>\n",
       "      <td>tại_sao nhìn con dao bạn không nghĩ đến việc s...</td>\n",
       "      <td>0</td>\n",
       "    </tr>\n",
       "    <tr>\n",
       "      <th>2</th>\n",
       "      <td>train_abhvpptixv</td>\n",
       "      <td>tao lấy trứng dái đập hả con lol</td>\n",
       "      <td>2</td>\n",
       "    </tr>\n",
       "    <tr>\n",
       "      <th>3</th>\n",
       "      <td>train_tervdkytrt</td>\n",
       "      <td>trang bằng shared post to the group mua_bán on...</td>\n",
       "      <td>0</td>\n",
       "    </tr>\n",
       "    <tr>\n",
       "      <th>4</th>\n",
       "      <td>train_qceexodeie</td>\n",
       "      <td>set bộ lv sz sml thảo mi lê_added new photos p...</td>\n",
       "      <td>0</td>\n",
       "    </tr>\n",
       "    <tr>\n",
       "      <th>...</th>\n",
       "      <td>...</td>\n",
       "      <td>...</td>\n",
       "      <td>...</td>\n",
       "    </tr>\n",
       "    <tr>\n",
       "      <th>20340</th>\n",
       "      <td>train_owkyoabvtd</td>\n",
       "      <td>hoàng lý chịu_khó coi cm đi kk</td>\n",
       "      <td>0</td>\n",
       "    </tr>\n",
       "    <tr>\n",
       "      <th>20341</th>\n",
       "      <td>train_kucaytiqfn</td>\n",
       "      <td>hương quỳnh tôm bi</td>\n",
       "      <td>0</td>\n",
       "    </tr>\n",
       "    <tr>\n",
       "      <th>20342</th>\n",
       "      <td>train_pcmlcrbdso</td>\n",
       "      <td>minh tầm dth không_anh</td>\n",
       "      <td>0</td>\n",
       "    </tr>\n",
       "    <tr>\n",
       "      <th>20343</th>\n",
       "      <td>train_tmgipnrqqg</td>\n",
       "      <td>phuong phan mới bầu lứa thui cũng có cho đẻ nh...</td>\n",
       "      <td>0</td>\n",
       "    </tr>\n",
       "    <tr>\n",
       "      <th>20344</th>\n",
       "      <td>train_qtdiwrvown</td>\n",
       "      <td>cẩm_tú</td>\n",
       "      <td>0</td>\n",
       "    </tr>\n",
       "  </tbody>\n",
       "</table>\n",
       "<p>20345 rows × 3 columns</p>\n",
       "</div>"
      ],
      "text/plain": [
       "                     id                                          free_text  \\\n",
       "0      train_blzwlqjqra  vừa rẻ vừa hịn tội gì mua cầm_kiều oanh trang ...   \n",
       "1      train_pcndwphict  tại_sao nhìn con dao bạn không nghĩ đến việc s...   \n",
       "2      train_abhvpptixv                   tao lấy trứng dái đập hả con lol   \n",
       "3      train_tervdkytrt  trang bằng shared post to the group mua_bán on...   \n",
       "4      train_qceexodeie  set bộ lv sz sml thảo mi lê_added new photos p...   \n",
       "...                 ...                                                ...   \n",
       "20340  train_owkyoabvtd                     hoàng lý chịu_khó coi cm đi kk   \n",
       "20341  train_kucaytiqfn                                 hương quỳnh tôm bi   \n",
       "20342  train_pcmlcrbdso                             minh tầm dth không_anh   \n",
       "20343  train_tmgipnrqqg  phuong phan mới bầu lứa thui cũng có cho đẻ nh...   \n",
       "20344  train_qtdiwrvown                                             cẩm_tú   \n",
       "\n",
       "       label_id  \n",
       "0             0  \n",
       "1             0  \n",
       "2             2  \n",
       "3             0  \n",
       "4             0  \n",
       "...         ...  \n",
       "20340         0  \n",
       "20341         0  \n",
       "20342         0  \n",
       "20343         0  \n",
       "20344         0  \n",
       "\n",
       "[20345 rows x 3 columns]"
      ]
     },
     "execution_count": 26,
     "metadata": {},
     "output_type": "execute_result"
    }
   ],
   "source": [
    "train_final"
   ]
  },
  {
   "cell_type": "code",
   "execution_count": 28,
   "id": "d39a4791",
   "metadata": {},
   "outputs": [],
   "source": [
    "import numpy as np\n",
    "indices = np.where(train_final['free_text'] == \"\")"
   ]
  },
  {
   "cell_type": "code",
   "execution_count": 30,
   "id": "e80814bb",
   "metadata": {},
   "outputs": [
    {
     "data": {
      "text/plain": [
       "(array([ 2090,  2409,  2460,  2642,  3217,  3248,  5678,  6231, 11044,\n",
       "        12087, 12662, 17610]),)"
      ]
     },
     "execution_count": 30,
     "metadata": {},
     "output_type": "execute_result"
    }
   ],
   "source": [
    "indices"
   ]
  },
  {
   "cell_type": "code",
   "execution_count": 32,
   "id": "6fe5fe70",
   "metadata": {},
   "outputs": [],
   "source": [
    "train_final.drop(indices[0],axis=0,inplace=True)"
   ]
  },
  {
   "cell_type": "code",
   "execution_count": 35,
   "id": "fde08ea6",
   "metadata": {},
   "outputs": [],
   "source": [
    "train_dataset = train_final.sample(frac=0.8,random_state=42)\n",
    "val_dataset = train_final.drop(train_dataset.index)"
   ]
  },
  {
   "cell_type": "code",
   "execution_count": 36,
   "id": "c5efd4fe",
   "metadata": {},
   "outputs": [],
   "source": [
    "train_dataset.to_csv('../../data/processed/train.csv')\n",
    "val_dataset.to_csv('../../data/processed/val.csv')"
   ]
  },
  {
   "cell_type": "code",
   "execution_count": 311,
   "id": "0fcfda15",
   "metadata": {},
   "outputs": [],
   "source": [
    "df_test_feature = pd.read_csv(\"../../data/raw/vn_hate_speech/04_test_text.csv\",encoding=\"UTF8\")"
   ]
  },
  {
   "cell_type": "code",
   "execution_count": 312,
   "id": "3d087573",
   "metadata": {},
   "outputs": [
    {
     "data": {
      "text/html": [
       "<div>\n",
       "<style scoped>\n",
       "    .dataframe tbody tr th:only-of-type {\n",
       "        vertical-align: middle;\n",
       "    }\n",
       "\n",
       "    .dataframe tbody tr th {\n",
       "        vertical-align: top;\n",
       "    }\n",
       "\n",
       "    .dataframe thead th {\n",
       "        text-align: right;\n",
       "    }\n",
       "</style>\n",
       "<table border=\"1\" class=\"dataframe\">\n",
       "  <thead>\n",
       "    <tr style=\"text-align: right;\">\n",
       "      <th></th>\n",
       "      <th>id</th>\n",
       "      <th>free_text</th>\n",
       "    </tr>\n",
       "  </thead>\n",
       "  <tbody>\n",
       "    <tr>\n",
       "      <th>0</th>\n",
       "      <td>test_ryhoydgtcg</td>\n",
       "      <td>Mình thanh lý giúp khách bức tranh Tranh thêu ...</td>\n",
       "    </tr>\n",
       "    <tr>\n",
       "      <th>1</th>\n",
       "      <td>test_yqasbugonw</td>\n",
       "      <td>Buồn Bất Cần is feeling alone.</td>\n",
       "    </tr>\n",
       "    <tr>\n",
       "      <th>2</th>\n",
       "      <td>test_etnlgoxldg</td>\n",
       "      <td>Hàng mới về Nga Nguyen is with Tran Cuong and ...</td>\n",
       "    </tr>\n",
       "    <tr>\n",
       "      <th>3</th>\n",
       "      <td>test_fhabnngpzi</td>\n",
       "      <td>Mệt Vl :))</td>\n",
       "    </tr>\n",
       "    <tr>\n",
       "      <th>4</th>\n",
       "      <td>test_wqkbbeobym</td>\n",
       "      <td>Minh Chí nhán nhí vl</td>\n",
       "    </tr>\n",
       "  </tbody>\n",
       "</table>\n",
       "</div>"
      ],
      "text/plain": [
       "                id                                          free_text\n",
       "0  test_ryhoydgtcg  Mình thanh lý giúp khách bức tranh Tranh thêu ...\n",
       "1  test_yqasbugonw                     Buồn Bất Cần is feeling alone.\n",
       "2  test_etnlgoxldg  Hàng mới về Nga Nguyen is with Tran Cuong and ...\n",
       "3  test_fhabnngpzi                                         Mệt Vl :))\n",
       "4  test_wqkbbeobym                               Minh Chí nhán nhí vl"
      ]
     },
     "execution_count": 312,
     "metadata": {},
     "output_type": "execute_result"
    }
   ],
   "source": [
    "df_test_feature.head()"
   ]
  },
  {
   "cell_type": "code",
   "execution_count": 313,
   "id": "62419dce",
   "metadata": {},
   "outputs": [],
   "source": [
    "df_test_feature['free_text'] = df_test_feature['free_text'].apply(lambda x : x.upper())\n",
    "df_test_feature['free_text'] = df_test_feature['free_text'].apply(remove_html_tag)\n",
    "df_test_feature['free_text'] = df_test_feature['free_text'].apply(remove_special_characters)\n",
    "df_test_feature['free_text'] = df_test_feature['free_text'].apply(remove_number_characters)\n",
    "df_test_feature['free_text'] = df_test_feature['free_text'].apply(remove_any_special_left)\n",
    "df_test_feature['free_text'] = df_test_feature['free_text'].apply(segment_text)\n",
    "df_test_feature['free_text'] = df_test_feature['free_text'].apply(lambda x : re.sub(\"xxx\",\"\",x).strip())\n",
    "indices = np.where(df_test_feature['free_text'] == \"\")\n",
    "df_test_featuretrain_final.drop(indices[0],axis=0,inplace=True)\n",
    "df_test_feature.to_csv('../../data/processed/test.csv')"
   ]
  },
  {
   "cell_type": "code",
   "execution_count": null,
   "id": "97a1d213",
   "metadata": {},
   "outputs": [],
   "source": []
  }
 ],
 "metadata": {
  "kernelspec": {
   "display_name": "STT",
   "language": "python",
   "name": "stt"
  },
  "language_info": {
   "codemirror_mode": {
    "name": "ipython",
    "version": 3
   },
   "file_extension": ".py",
   "mimetype": "text/x-python",
   "name": "python",
   "nbconvert_exporter": "python",
   "pygments_lexer": "ipython3",
   "version": "3.8.5"
  }
 },
 "nbformat": 4,
 "nbformat_minor": 5
}
